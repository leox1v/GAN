{
 "cells": [
  {
   "cell_type": "code",
   "execution_count": 1,
   "metadata": {
    "collapsed": true
   },
   "outputs": [],
   "source": [
    "import numpy as np\n",
    "import os\n",
    "import matplotlib\n",
    "matplotlib.use('Agg')\n",
    "import matplotlib.pyplot as plt"
   ]
  },
  {
   "cell_type": "code",
   "execution_count": 2,
   "metadata": {
    "collapsed": false
   },
   "outputs": [],
   "source": [
    "def load_opt_arrays(dir=\"arr_2/\", opt=\"sgd adagrad adam\"):\n",
    "    opt_methods_keys = opt.split(\" \")\n",
    "    opt_methods = dict()\n",
    "    if not os.path.exists(dir):\n",
    "        os.makedirs(dir)\n",
    "    for method in opt_methods_keys:\n",
    "        opt_methods[method + \"_g\"] = np.array([])\n",
    "        opt_methods[method + \"_d\"] = np.array([])\n",
    "        if os.path.isfile(dir + method +\"_g.npy\"):\n",
    "            opt_methods[method + \"_g\"] = np.load(dir + method +\"_g.npy\")#[-34:]\n",
    "        if os.path.isfile(dir + method +\"_d.npy\"):\n",
    "            opt_methods[method + \"_d\"] = np.load(dir + method +\"_d.npy\")#[-34:]\n",
    "    return opt_methods\n",
    "\n",
    "def save_opt_methods(opt_methods, dir=\"arr_0/\"):\n",
    "    for key in opt_methods.keys():\n",
    "        np.save(dir + key + \".npy\", opt_methods[key])\n",
    "\n",
    "opt_methods = load_opt_arrays()"
   ]
  },
  {
   "cell_type": "code",
   "execution_count": 3,
   "metadata": {
    "collapsed": false
   },
   "outputs": [
    {
     "name": "stdout",
     "output_type": "stream",
     "text": [
      "[ 0.36009717  0.12011404  0.16176152  0.14423005  0.07751623  0.32306975\n",
      "  0.12437218  0.01175684  0.01499612  0.02090667  0.08413048  0.28970531\n",
      "  0.01811509  0.00917316  0.14867638  0.025017  ]\n",
      "[ 0.00917316  0.14867638  0.025017  ]\n",
      "16\n"
     ]
    }
   ],
   "source": [
    "print(opt_methods[\"adam_g\"])\n",
    "print(opt_methods[\"adam_g\"][-3:])\n",
    "print(len(opt_methods[\"adam_g\"]))"
   ]
  },
  {
   "cell_type": "code",
   "execution_count": 4,
   "metadata": {
    "collapsed": false
   },
   "outputs": [],
   "source": [
    "save_opt_methods(opt_methods)"
   ]
  },
  {
   "cell_type": "code",
   "execution_count": 4,
   "metadata": {
    "collapsed": false
   },
   "outputs": [],
   "source": [
    "def print_opt_methods(opt_methods, dir=\"out_2/\"):\n",
    "    discr_keys = [key for key, val in opt_methods.items() if '_d' in key]\n",
    "    gen_keys = [key for key, val in opt_methods.items() if '_g' in key]\n",
    "\n",
    "    plt.figure(1, figsize=(10,10))\n",
    "    plt.subplot(211)\n",
    "    plt.title(\"Gradientsum Discriminator\")\n",
    "    plt.xlabel(\"Iterations\")\n",
    "    for key in discr_keys:\n",
    "        val = opt_methods[key]\n",
    "        x = np.array(range(len(val))) * int(1000)\n",
    "        plt.plot(x, val, label=key.split(\"_\")[0])\n",
    "    plt.legend()\n",
    "\n",
    "    plt.subplot(212)\n",
    "    plt.title(\"Gradientsum Generator\")\n",
    "    for key in gen_keys:\n",
    "        val = opt_methods[key]\n",
    "        x = np.array(range(len(val))) * int(1000)\n",
    "        plt.plot(x, val, label=key.split(\"_\")[0])\n",
    "    plt.legend()\n",
    "\n",
    "    plt.savefig(dir + \"Gradients.png\")\n",
    "    plt.show()\n",
    "    \n",
    "print_opt_methods(opt_methods)"
   ]
  },
  {
   "cell_type": "code",
   "execution_count": null,
   "metadata": {
    "collapsed": true
   },
   "outputs": [],
   "source": []
  }
 ],
 "metadata": {
  "kernelspec": {
   "display_name": "Python 2",
   "language": "python",
   "name": "python2"
  },
  "language_info": {
   "codemirror_mode": {
    "name": "ipython",
    "version": 2
   },
   "file_extension": ".py",
   "mimetype": "text/x-python",
   "name": "python",
   "nbconvert_exporter": "python",
   "pygments_lexer": "ipython2",
   "version": "2.7.13"
  }
 },
 "nbformat": 4,
 "nbformat_minor": 2
}
